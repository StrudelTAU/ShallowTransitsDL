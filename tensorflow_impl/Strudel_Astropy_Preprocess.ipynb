{
 "cells": [
  {
   "cell_type": "markdown",
   "metadata": {
    "colab_type": "text",
    "id": "bHOLLg1znxJ5"
   },
   "source": [
    "#Preprocessing Pipeline"
   ]
  },
  {
   "cell_type": "code",
   "execution_count": 2,
   "metadata": {
    "colab": {
     "autoexec": {
      "startup": false,
      "wait_interval": 0
     },
     "base_uri": "https://localhost:8080/",
     "height": 668
    },
    "colab_type": "code",
    "collapsed": true,
    "executionInfo": {
     "elapsed": 1342270,
     "status": "ok",
     "timestamp": 1527514762942,
     "user": {
      "displayName": "Elad Dvash",
      "photoUrl": "//lh5.googleusercontent.com/-oYmVJOKh18Y/AAAAAAAAAAI/AAAAAAAAAD0/BnBaQsbh3tU/s50-c-k-no/photo.jpg",
      "userId": "104152647426303963874"
     },
     "user_tz": -180
    },
    "id": "0Si2uRbeQWSu",
    "outputId": "ae4a6191-77cc-4635-8e4f-71591cf8c9b4",
    "scrolled": true
   },
   "outputs": [
    {
     "name": "stdout",
     "output_type": "stream",
     "text": [
      "done\n",
      "rm: cannot remove '*.csv': No such file or directory\n",
      "--2022-11-02 18:13:35--  http://archive.stsci.edu/missions/tess/ete-6/tid/00/000/003/185/tess2019128220341-0000000318565153-0016-s_lc.fits\n",
      "Resolving archive.stsci.edu (archive.stsci.edu)... 130.167.201.60\n",
      "Connecting to archive.stsci.edu (archive.stsci.edu)|130.167.201.60|:80... connected.\n",
      "HTTP request sent, awaiting response... 301 Moved Permanently\n",
      "Location: https://archive.stsci.edu/missions/tess/ete-6/tid/00/000/003/185/tess2019128220341-0000000318565153-0016-s_lc.fits [following]\n",
      "--2022-11-02 18:13:36--  https://archive.stsci.edu/missions/tess/ete-6/tid/00/000/003/185/tess2019128220341-0000000318565153-0016-s_lc.fits\n",
      "Connecting to archive.stsci.edu (archive.stsci.edu)|130.167.201.60|:443... connected.\n",
      "HTTP request sent, awaiting response... 200 OK\n",
      "Length: 2090880 (2.0M) [image/fits]\n",
      "Saving to: ‘sample_tess.fits’\n",
      "\n",
      "sample_tess.fits    100%[===================>]   1.99M  2.04MB/s    in 1.0s    \n",
      "\n",
      "2022-11-02 18:13:37 (2.04 MB/s) - ‘sample_tess.fits’ saved [2090880/2090880]\n",
      "\n",
      "total 2124\n",
      "-rw-rw-r-- 1 elad elad   16809 Oct 28 17:21 gan_utils.py\n",
      "-rw-rw-r-- 1 elad elad    7707 Oct 29 11:38 networks.py\n",
      "-rw-rw-r-- 1 elad elad 2090880 Feb  2  2018 sample_tess.fits\n",
      "-rw-rw-r-- 1 elad elad   11836 Oct 29 11:38 Strudel_Astropy_GAN_training.ipynb\n",
      "-rw-rw-r-- 1 elad elad    4472 Oct 28 17:21 Strudel_Astropy_Only_Classifier.ipynb\n",
      "-rw-rw-r-- 1 elad elad   20827 Nov  2 17:58 Strudel_Astropy_Preprocess.ipynb\n",
      "-rw-rw-r-- 1 elad elad    5230 Oct 28 17:21 strudel_utils.py\n"
     ]
    }
   ],
   "source": [
    "# !wget https://www.dropbox.com/s/opk4pbqoddz8smv/sample_TESS_sim_mag_bins.zip?dl=0 -O sample_sim_mag_bins.zip\n",
    "#https://www.dropbox.com/s/4m0x95jq1av3w6z/sample_TESS_sim.zip?dl=1 -O sample_sim.zip\n",
    "print('done')\n",
    "\n",
    "# !ls -l\n",
    "# !7z x sample_sim_mag_bins.zip\n",
    "import pandas as pd\n",
    "import numpy as np\n",
    "import glob\n",
    "\n",
    "files = glob.glob(\"../data/sample_TESS_sim_mag_*.csv\")\n",
    "for i in files:\n",
    "  df = pd.read_csv(i, header=None).values\n",
    "  np.save(i[:-4]+'.npy',df)\n",
    "  \n",
    "!rm *.csv\n",
    "!wget http://archive.stsci.edu/missions/tess/ete-6/tid/00/000/003/185/tess2019128220341-0000000318565153-0016-s_lc.fits -O sample_tess.fits\n",
    "!ls -l"
   ]
  },
  {
   "cell_type": "code",
   "execution_count": 3,
   "metadata": {},
   "outputs": [
    {
     "name": "stdout",
     "output_type": "stream",
     "text": [
      "()\n",
      "0.4976269762697627 8.639281714680541 340.63642621643186 6.983884192501628\n",
      "45.19214720913993 1.3443264914886714\n"
     ]
    }
   ],
   "source": [
    "import astropy.io.fits as fits\n",
    "import numpy as np\n",
    "import matplotlib.pyplot as plt\n",
    "import pandas as pd\n",
    "from random import shuffle\n",
    "import astropy.io.fits as fits\n",
    "from astropy.io.fits.card import UNDEFINED\n",
    "import batman\n",
    "from tqdm import tqdm\n",
    "import pandas as pd\n",
    "import numpy as np\n",
    "import glob\n",
    "\n",
    "def generate_transit_params(n = 100000):\n",
    "    M = np.linspace(0.3,2.0,n)\n",
    "    N = 0.287971 * M**-2.35 * 0.001 * 20000\n",
    "    N = N.astype(int)\n",
    "    masses = [np.repeat(M[i],N[i]) for i in range(len(N))]\n",
    "    mass_dist = np.concatenate(masses, axis=0)\n",
    "\n",
    "    np.random.shuffle(mass_dist)\n",
    "    mass_dist = mass_dist[:n]\n",
    "    \n",
    "    period = np.power(10, np.random.uniform(np.log10(2), np.log10(9), n))\n",
    "    logRpRs = np.random.uniform(np.log10(20), np.log10(100), n) * -1 \n",
    "    RpRs = np.power(10, logRpRs)\n",
    "    t0 = np.random.uniform(0, 1, n)\n",
    "    b = np.random.uniform(0, 1, n)\n",
    "    a_vals = np.random.uniform(0.5, 0.7, n)\n",
    "    aRs = 7.495**(1.0/3.0) *(10**-2) * 214.9394693836 * mass_dist**(4.0/3.0) * period**(2.0/3.0)# assume R ~ M \n",
    "    print(aRs[0].shape)\n",
    "    print(mass_dist[0], period[0], (7.495*(10**-6) * 214.9394693836**3 * mass_dist[0]**3 * period[0]**2 * mass_dist[0]), aRs[0])\n",
    "    return np.stack((t0,period,RpRs,aRs,b,a_vals, np.zeros_like(a_vals), np.zeros_like(a_vals), np.zeros_like(a_vals)), axis=1)\n",
    "aRs = generate_transit_params()[:,3]\n",
    "print(aRs.max(), aRs.min())"
   ]
  },
  {
   "cell_type": "code",
   "execution_count": 6,
   "metadata": {
    "colab": {
     "autoexec": {
      "startup": false,
      "wait_interval": 0
     }
    },
    "colab_type": "code",
    "id": "4ASp-6d4UKsS",
    "scrolled": true
   },
   "outputs": [
    {
     "name": "stdout",
     "output_type": "stream",
     "text": [
      "Start\n",
      "()\n",
      "1.8623666236662366 7.183463314321431 46200.707918037326 35.882515136000976\n"
     ]
    },
    {
     "name": "stderr",
     "output_type": "stream",
     "text": [
      "  0%|          | 44/99990 [00:00<13:32, 122.97it/s] "
     ]
    },
    {
     "name": "stdout",
     "output_type": "stream",
     "text": [
      "loading sample_TESS_sim0\n"
     ]
    },
    {
     "name": "stderr",
     "output_type": "stream",
     "text": [
      " 10%|█         | 10046/99990 [00:23<06:05, 246.21it/s]"
     ]
    },
    {
     "name": "stdout",
     "output_type": "stream",
     "text": [
      "loading sample_TESS_sim1\n"
     ]
    },
    {
     "name": "stderr",
     "output_type": "stream",
     "text": [
      " 20%|██        | 20081/99990 [00:47<05:11, 256.21it/s]"
     ]
    },
    {
     "name": "stdout",
     "output_type": "stream",
     "text": [
      "loading sample_TESS_sim2\n"
     ]
    },
    {
     "name": "stderr",
     "output_type": "stream",
     "text": [
      " 30%|███       | 30071/99990 [01:10<04:36, 253.21it/s]"
     ]
    },
    {
     "name": "stdout",
     "output_type": "stream",
     "text": [
      "loading sample_TESS_sim3\n"
     ]
    },
    {
     "name": "stderr",
     "output_type": "stream",
     "text": [
      " 40%|████      | 40081/99990 [01:34<03:54, 255.24it/s]"
     ]
    },
    {
     "name": "stdout",
     "output_type": "stream",
     "text": [
      "loading sample_TESS_sim4\n"
     ]
    },
    {
     "name": "stderr",
     "output_type": "stream",
     "text": [
      " 50%|█████     | 50073/99990 [01:57<03:20, 249.25it/s]"
     ]
    },
    {
     "name": "stdout",
     "output_type": "stream",
     "text": [
      "loading sample_TESS_sim5\n"
     ]
    },
    {
     "name": "stderr",
     "output_type": "stream",
     "text": [
      " 60%|██████    | 60054/99990 [02:20<02:31, 263.93it/s]"
     ]
    },
    {
     "name": "stdout",
     "output_type": "stream",
     "text": [
      "loading sample_TESS_sim6\n"
     ]
    },
    {
     "name": "stderr",
     "output_type": "stream",
     "text": [
      " 70%|███████   | 70073/99990 [02:44<01:52, 266.06it/s]"
     ]
    },
    {
     "name": "stdout",
     "output_type": "stream",
     "text": [
      "loading sample_TESS_sim7\n"
     ]
    },
    {
     "name": "stderr",
     "output_type": "stream",
     "text": [
      " 80%|████████  | 80061/99990 [03:07<01:18, 253.61it/s]"
     ]
    },
    {
     "name": "stdout",
     "output_type": "stream",
     "text": [
      "loading sample_TESS_sim8\n"
     ]
    },
    {
     "name": "stderr",
     "output_type": "stream",
     "text": [
      " 90%|█████████ | 90045/99990 [03:31<00:37, 263.22it/s]"
     ]
    },
    {
     "name": "stdout",
     "output_type": "stream",
     "text": [
      "loading sample_TESS_sim9\n"
     ]
    },
    {
     "name": "stderr",
     "output_type": "stream",
     "text": [
      "100%|██████████| 99990/99990 [03:54<00:00, 427.06it/s]\n"
     ]
    },
    {
     "name": "stdout",
     "output_type": "stream",
     "text": [
      "(199980, 20610, 1) (199980, 20610, 1) (199980,) (199980, 9) (199980, 1)\n",
      "done\n"
     ]
    }
   ],
   "source": [
    "def parse_fn(input_data, zeros, gen_params, TransitModel, params):\n",
    "    params.t0 = gen_params[0] * gen_params[1]\n",
    "    params.per = gen_params[1]  # orbital period\n",
    "    params.rp = gen_params[2]  # planet radius (in units of stellar radii)\n",
    "    params.a = gen_params[3]  # semi-major axis (in units of stellar radii)\n",
    "    params.inc = 57.2957795 * np.arccos(gen_params[4]/gen_params[3])  # orbital inclination (in degrees)\n",
    "    params.u = [gen_params[5]] # limb darkening coefficients [u1, u2, u3, u4]\n",
    "    flux = TransitModel.light_curve(params)\n",
    "    flux = np.log10(flux) * -2.5\n",
    "    \n",
    "    input_data = np.log10(input_data) * -2.5\n",
    "    \n",
    "    \n",
    "    y = np.copy(input_data) * zeros\n",
    "    mu_y = np.mean(y[y != 0])\n",
    "    sigma_y = np.std(y[y != 0])\n",
    "    y = (y - mu_y) / sigma_y\n",
    "    y *= zeros\n",
    "    \n",
    "    x = np.copy(input_data)\n",
    "    x = (flux + x) * zeros\n",
    "    mu_x = np.mean(x[x != 0])\n",
    "    sigma_x = np.std(x[x != 0])\n",
    "    x = (x - mu_x) / sigma_x\n",
    "    x *= zeros\n",
    "    \n",
    "    qn = np.sum(flux > 0)\n",
    "    SNR = (qn**0.5) * (gen_params[2]**2 / sigma_x)\n",
    "    np.reshape(x, (x.shape[0],1))\n",
    "    np.reshape(y, (y.shape[0],1))\n",
    "    np.reshape(flux, (flux.shape[0],1))\n",
    "    return x, y, flux, SNR, mu_x, sigma_x, mu_y, sigma_y\n",
    "\n",
    "\n",
    "print(\"Start\")\n",
    "data_count = 9999 * 10\n",
    "file_count = 9999\n",
    "\n",
    "middle_count = data_count\n",
    "\n",
    "gen_parameters = generate_transit_params()\n",
    "params = batman.TransitParams()  # object to store transit parameters\n",
    "params.t0 = 0# time of inferior conjunction\n",
    "params.per = 1  # orbital period\n",
    "params.rp = 0.05  # planet radius (in units of stellar radii)\n",
    "params.a = 5  # semi-major axis (in units of stellar radii)\n",
    "params.inc = 90  # orbital inclination (in degrees)\n",
    "params.ecc = 0.0  # eccentricity\n",
    "params.w = 90.  # longitude of periastron (in degrees)\n",
    "params.limb_dark = \"linear\"  # limb darkening model\n",
    "params.u = [0.5] # limb darkening coefficients [u1, u2, u3, u4]\n",
    "\n",
    "t = np.linspace(0, 28.625, 20610)  # times at which to calculate light curve\n",
    "m = batman.TransitModel(params, t)  # initializes model\n",
    "\n",
    "file_id = -1\n",
    "file = None\n",
    "header = '../data/' #'D:\\\\sample_TESS_sim\\\\'\n",
    "hdul = fits.open(header + 'sample_tess.fits')\n",
    "\n",
    "total_features =  np.zeros(dtype='float32', shape=(data_count * 2, 20610, 1))\n",
    "total_transits =  np.zeros(dtype='float32', shape=(data_count * 2, 20610, 1))\n",
    "total_y =  np.zeros(dtype='float32', shape=(data_count * 2))\n",
    "total_params =  np.zeros(dtype='float32', shape=(data_count * 2, 9))\n",
    "total_SNR =  np.zeros(dtype='float32', shape=(data_count * 2, 1))\n",
    "\n",
    "\n",
    "files_mag = sorted(glob.glob(header + \"*.csv\"))\n",
    "files = sorted(glob.glob(header + \"*.npy\"))\n",
    "zeros = hdul[1].data['PDCSAP_FLUX']\n",
    "zeros[zeros != 0] = 1 # this array represents when we have tess data to simulate data gaps due to orbit\n",
    "for data in tqdm(range(middle_count)):\n",
    "    if int(data / file_count) != file_id:  # since each file has 9999 stars we'll switch files each time we reach that numer\n",
    "        file_id = int(data / file_count)\n",
    "        file = np.load(files[file_id])\n",
    "        mag_file = pd.read_csv(files_mag[file_id], header=None).values\n",
    "        print('loading sample_TESS_sim' + str(file_id))\n",
    "    \n",
    "    mag = mag_file[data % file_count,-1]\n",
    "    if not isinstance(mag, float):\n",
    "        mag = float(mag.replace('..','.'))\n",
    "    x, y, transit, SNR, mu_x, sigma_x, mu_y, sigma_y = parse_fn(file[data % file_count, :-1], zeros, gen_parameters[data], m, params)  # get the LCs\n",
    "    gen_parameters[data] = [gen_parameters[data][0], np.log10(gen_parameters[data][1]),gen_parameters[data][2],\n",
    "                            gen_parameters[data][3], gen_parameters[data][4], gen_parameters[data][5], mu_x, sigma_x, mag]\n",
    "    #print(total_features[data].shape)\n",
    "    total_features[data, : , 0] = x\n",
    "    total_features[data + middle_count, : , 0] = y\n",
    "\n",
    "    total_transits[data, : , 0] = transit\n",
    "    \n",
    "    total_y[data] = 1  # x has injected planet, y dosnt\n",
    "    total_y[data + middle_count] = 0\n",
    "    \n",
    "    total_params[data, :] = gen_parameters[data]\n",
    "    total_params[data + middle_count, :] = [0]*6 + [mu_y, sigma_y, mag]\n",
    "    \n",
    "    total_SNR[data,0] = SNR\n",
    "\n",
    "print(total_features.shape, total_transits.shape, total_y.shape, total_params.shape, total_SNR.shape)\n",
    "np.save(header + 'total_x_sim.npy', total_features)\n",
    "np.save(header + 'total_y_sim.npy', total_y)\n",
    "np.save(header + 'total_transits_sim.npy', total_transits)\n",
    "np.save(header + 'total_params_sim.npy', total_params)\n",
    "np.save(header + 'total_SNR_sim.npy', total_SNR)\n",
    "\n",
    "total_features = None\n",
    "total_transits = None\n",
    "total_y = None\n",
    "total_params = None\n",
    "total_SNR = None\n",
    "\n",
    "#!7z a all_files.zip total_x_sim.npy total_y_sim.npy total_transits_sim.npy total_params_sim.npy total_SNR_sim.npy\n",
    "print('done')\n"
   ]
  },
  {
   "cell_type": "code",
   "execution_count": 7,
   "metadata": {},
   "outputs": [
    {
     "ename": "FileNotFoundError",
     "evalue": "[Errno 2] No such file or directory: 'total_x_sim.npy'",
     "output_type": "error",
     "traceback": [
      "\u001b[0;31m---------------------------------------------------------------------------\u001b[0m",
      "\u001b[0;31mFileNotFoundError\u001b[0m                         Traceback (most recent call last)",
      "\u001b[1;32m/home/elad/ShallowTransitsDL/tensorflow_impl/Strudel_Astropy_Preprocess.ipynb Cell 5\u001b[0m in \u001b[0;36m<cell line: 20>\u001b[0;34m()\u001b[0m\n\u001b[1;32m     <a href='vscode-notebook-cell://ssh-remote%2B10.147.10.3/home/elad/ShallowTransitsDL/tensorflow_impl/Strudel_Astropy_Preprocess.ipynb#W4sdnNjb2RlLXJlbW90ZQ%3D%3D?line=16'>17</a>\u001b[0m total_params \u001b[39m=\u001b[39m \u001b[39mNone\u001b[39;00m\n\u001b[1;32m     <a href='vscode-notebook-cell://ssh-remote%2B10.147.10.3/home/elad/ShallowTransitsDL/tensorflow_impl/Strudel_Astropy_Preprocess.ipynb#W4sdnNjb2RlLXJlbW90ZQ%3D%3D?line=17'>18</a>\u001b[0m total_SNR \u001b[39m=\u001b[39m \u001b[39mNone\u001b[39;00m\n\u001b[0;32m---> <a href='vscode-notebook-cell://ssh-remote%2B10.147.10.3/home/elad/ShallowTransitsDL/tensorflow_impl/Strudel_Astropy_Preprocess.ipynb#W4sdnNjb2RlLXJlbW90ZQ%3D%3D?line=19'>20</a>\u001b[0m total_features \u001b[39m=\u001b[39m  np\u001b[39m.\u001b[39;49mload(\u001b[39m'\u001b[39;49m\u001b[39mtotal_x_sim.npy\u001b[39;49m\u001b[39m'\u001b[39;49m, mmap_mode \u001b[39m=\u001b[39;49m  \u001b[39m'\u001b[39;49m\u001b[39mr\u001b[39;49m\u001b[39m'\u001b[39;49m)\n\u001b[1;32m     <a href='vscode-notebook-cell://ssh-remote%2B10.147.10.3/home/elad/ShallowTransitsDL/tensorflow_impl/Strudel_Astropy_Preprocess.ipynb#W4sdnNjb2RlLXJlbW90ZQ%3D%3D?line=20'>21</a>\u001b[0m total_transits \u001b[39m=\u001b[39m  np\u001b[39m.\u001b[39mload(\u001b[39m'\u001b[39m\u001b[39mtotal_transits_sim.npy\u001b[39m\u001b[39m'\u001b[39m, mmap_mode \u001b[39m=\u001b[39m  \u001b[39m'\u001b[39m\u001b[39mr\u001b[39m\u001b[39m'\u001b[39m)\n\u001b[1;32m     <a href='vscode-notebook-cell://ssh-remote%2B10.147.10.3/home/elad/ShallowTransitsDL/tensorflow_impl/Strudel_Astropy_Preprocess.ipynb#W4sdnNjb2RlLXJlbW90ZQ%3D%3D?line=21'>22</a>\u001b[0m total_y \u001b[39m=\u001b[39m  np\u001b[39m.\u001b[39mload(\u001b[39m'\u001b[39m\u001b[39mtotal_y_sim.npy\u001b[39m\u001b[39m'\u001b[39m)\n",
      "File \u001b[0;32m~/miniconda3/envs/strudel_pytorch/lib/python3.8/site-packages/numpy/lib/npyio.py:390\u001b[0m, in \u001b[0;36mload\u001b[0;34m(file, mmap_mode, allow_pickle, fix_imports, encoding)\u001b[0m\n\u001b[1;32m    388\u001b[0m     own_fid \u001b[39m=\u001b[39m \u001b[39mFalse\u001b[39;00m\n\u001b[1;32m    389\u001b[0m \u001b[39melse\u001b[39;00m:\n\u001b[0;32m--> 390\u001b[0m     fid \u001b[39m=\u001b[39m stack\u001b[39m.\u001b[39menter_context(\u001b[39mopen\u001b[39;49m(os_fspath(file), \u001b[39m\"\u001b[39;49m\u001b[39mrb\u001b[39;49m\u001b[39m\"\u001b[39;49m))\n\u001b[1;32m    391\u001b[0m     own_fid \u001b[39m=\u001b[39m \u001b[39mTrue\u001b[39;00m\n\u001b[1;32m    393\u001b[0m \u001b[39m# Code to distinguish from NumPy binary files and pickles.\u001b[39;00m\n",
      "\u001b[0;31mFileNotFoundError\u001b[0m: [Errno 2] No such file or directory: 'total_x_sim.npy'"
     ]
    }
   ],
   "source": [
    "import astropy.io.fits as fits\n",
    "import numpy as np\n",
    "import matplotlib.pyplot as plt\n",
    "import pandas as pd\n",
    "from random import shuffle\n",
    "import astropy.io.fits as fits\n",
    "from astropy.io.fits.card import UNDEFINED\n",
    "import batman\n",
    "from tqdm import tqdm\n",
    "import pandas as pd\n",
    "import numpy as np\n",
    "import glob\n",
    "\n",
    "total_features = None\n",
    "total_transits = None\n",
    "total_y = None\n",
    "total_params = None\n",
    "total_SNR = None\n",
    "\n",
    "total_features =  np.load('total_x_sim.npy', mmap_mode =  'r')\n",
    "total_transits =  np.load('total_transits_sim.npy', mmap_mode =  'r')\n",
    "total_y =  np.load('total_y_sim.npy')\n",
    "total_params =  np.load('total_params_sim.npy')\n",
    "total_SNR =  np.load('total_SNR_sim.npy')\n",
    "\n",
    "# idxs_train_base_false = np.random.choice(middle_count, size=20000,replace=False)\n",
    "# idxs_train_base_true = idxs_train_base_false + middle_count\n",
    "\n",
    "# idxs_train_classification = np.random.choice(len(idxs_train_base_false), size=len(idxs_train_base_false)//2,replace=False)\n",
    "# idxs_train_classification = np.array([for i,j in zip(idxs_train_base_false, idxs_train_base_true) i if i in idxs_train_classification else j])\n",
    "\n",
    "# idxs_test_gan = np.array([i for i in range(len(middle_count*2)) if i not in np.concatenate([idxs_train_base, idxs_train_base_true])])\n",
    "\n",
    "idx = np.random.permutation(middle_count*2)\n",
    "total_features = total_features[idx]\n",
    "total_transits = total_transits[idx]\n",
    "total_y = total_y[idx]\n",
    "total_params = total_params[idx]\n",
    "total_SNR = total_SNR[idx]\n",
    "print('done')\n",
    "\n",
    "print('start')\n",
    "print(total_features.shape, total_transits.shape, total_y.shape, total_params.shape, total_SNR.shape)\n",
    "np.save(header + 'total_x_sim.npy', total_features)\n",
    "np.save(header + 'total_y_sim.npy', total_y)\n",
    "np.save(header + 'total_transits_sim.npy', total_transits)\n",
    "np.save(header + 'total_params_sim.npy', total_params)\n",
    "np.save(header + 'total_SNR_sim.npy', total_SNR)\n",
    "np.save(header + 'total_idx_sim.npy', idx)\n",
    "\n",
    "total_features = None\n",
    "total_transits = None\n",
    "total_y = None\n",
    "total_params = None\n",
    "total_SNR = None\n"
   ]
  },
  {
   "cell_type": "code",
   "execution_count": null,
   "metadata": {},
   "outputs": [],
   "source": [
    "#!rm -rf sample_TESS*.npy\n",
    "#!rm -rf mag_*.csv\n",
    "#!7z a all_files.zip total_x_sim.npy total_y_sim.npy total_transits_sim.npy total_params_sim.npy total_SNR_sim.npy total_idx_sim.npy"
   ]
  },
  {
   "cell_type": "code",
   "execution_count": 8,
   "metadata": {},
   "outputs": [
    {
     "data": {
      "text/plain": [
       "'../data/'"
      ]
     },
     "execution_count": 8,
     "metadata": {},
     "output_type": "execute_result"
    }
   ],
   "source": [
    "header"
   ]
  },
  {
   "cell_type": "code",
   "execution_count": 9,
   "metadata": {},
   "outputs": [
    {
     "name": "stdout",
     "output_type": "stream",
     "text": [
      "done\n",
      "start\n",
      "(199980, 20610, 1) (199980, 20610, 1) (199980,) (199980, 9) (199980, 1)\n",
      "done\n"
     ]
    }
   ],
   "source": [
    "import astropy.io.fits as fits\n",
    "import numpy as np\n",
    "import matplotlib.pyplot as plt\n",
    "import pandas as pd\n",
    "from random import shuffle\n",
    "import astropy.io.fits as fits\n",
    "from astropy.io.fits.card import UNDEFINED\n",
    "import batman\n",
    "from tqdm import tqdm\n",
    "import pandas as pd\n",
    "import numpy as np\n",
    "import glob\n",
    "\n",
    "total_features =  np.load(header + 'total_x_sim.npy', mmap_mode =  'r')\n",
    "total_transits =  np.load(header + 'total_transits_sim.npy', mmap_mode =  'r')\n",
    "total_y =  np.load(header + 'total_y_sim.npy')\n",
    "total_params =  np.load(header + 'total_params_sim.npy')\n",
    "total_SNR =  np.load(header + 'total_SNR_sim.npy')\n",
    "\n",
    "\n",
    "total_features_train = np.concatenate([total_features[:10000], total_features[middle_count + 10000: middle_count + 20000]], axis=0) \n",
    "total_transits_train = np.concatenate([total_transits[:10000], total_transits[middle_count + 10000: middle_count + 20000]], axis=0) \n",
    "total_y_train = np.concatenate([total_y[:10000], total_y[middle_count + 10000: middle_count + 20000]], axis=0) \n",
    "total_params_train = np.concatenate([total_params[:10000], total_params[middle_count + 10000: middle_count + 20000]], axis=0) \n",
    "total_SNR_train = np.concatenate([total_SNR[:10000], total_SNR[middle_count + 10000: middle_count + 20000]], axis=0) \n",
    "\n",
    "total_features_test = np.concatenate([total_features[20000:30000], total_features[middle_count + 30000: middle_count + 40000]], axis=0) \n",
    "total_transits_test = np.concatenate([total_transits[20000:30000], total_transits[middle_count + 30000: middle_count + 40000]], axis=0) \n",
    "total_y_test = np.concatenate([total_y[20000:30000], total_y[middle_count + 30000: middle_count + 40000]], axis=0) \n",
    "total_params_test = np.concatenate([total_params[20000:30000], total_params[middle_count + 30000: middle_count + 40000]], axis=0) \n",
    "total_SNR_test = np.concatenate([total_SNR[20000:30000], total_SNR[middle_count + 30000: middle_count + 40000]], axis=0) \n",
    "\n",
    "print('done')\n",
    "\n",
    "print('start')\n",
    "print(total_features.shape, total_transits.shape, total_y.shape, total_params.shape, total_SNR.shape)\n",
    "# header = \"./\"\n",
    "np.save(header + 'total_x_sim_train.npy', total_features_train)\n",
    "np.save(header + 'total_y_sim_train.npy', total_y_train)\n",
    "np.save(header + 'total_transit_sim_train.npy', total_transits_train)\n",
    "np.save(header + 'total_params_sim_train.npy', total_params_train)\n",
    "np.save(header + 'total_SNR_sim_train.npy', total_SNR_train)\n",
    "\n",
    "\n",
    "np.save(header + 'total_x_sim_test.npy', total_features_test)\n",
    "np.save(header + 'total_y_sim_test.npy', total_y_test)\n",
    "np.save(header + 'total_transit_sim_test.npy', total_transits_test)\n",
    "np.save(header + 'total_params_sim_test.npy', total_params_test)\n",
    "np.save(header + 'total_SNR_sim_test.npy', total_SNR_test)\n",
    "\n",
    "#!7z a all_files_small.zip total_x_sim_train.npy total_y_sim_train.npy total_transit_sim_train.npy total_params_sim_train.npy total_SNR_sim_train.npy total_x_sim_test.npy total_y_sim_test.npy total_transit_sim_test.npy total_params_sim_test.npy total_SNR_sim_test.npy\n",
    "print('done')\n",
    "\n",
    "\n",
    "total_features = None\n",
    "total_transits = None\n",
    "total_y = None\n",
    "total_params = None\n",
    "total_SNR = None\n",
    "\n",
    "total_features_train = None\n",
    "total_transits_train = None\n",
    "total_y_train = None\n",
    "total_params_train = None\n",
    "total_SNR_train = None\n",
    "\n",
    "total_features_test = None\n",
    "total_transits_test = None\n",
    "total_y_test = None\n",
    "total_params_test = None\n",
    "total_SNR_test = None"
   ]
  },
  {
   "cell_type": "code",
   "execution_count": null,
   "metadata": {},
   "outputs": [],
   "source": [
    "#!rm -rf *_train.npy\n",
    "#!rm -rf *_test.npy\n"
   ]
  },
  {
   "cell_type": "code",
   "execution_count": null,
   "metadata": {},
   "outputs": [],
   "source": [
    "import astropy.io.fits as fits\n",
    "import numpy as np\n",
    "import matplotlib.pyplot as plt\n",
    "import pandas as pd\n",
    "from random import shuffle\n",
    "import astropy.io.fits as fits\n",
    "from astropy.io.fits.card import UNDEFINED\n",
    "import batman\n",
    "from tqdm import tqdm\n",
    "import pandas as pd\n",
    "import numpy as np\n",
    "import glob\n",
    "\n",
    "total_features =  np.load(header + 'total_x_sim.npy', mmap_mode =  'r')\n",
    "total_transits =  np.load(header + 'total_transits_sim.npy', mmap_mode =  'r')\n",
    "total_y =  np.load(header + 'total_y_sim.npy')\n",
    "total_params =  np.load(header + 'total_params_sim.npy')\n",
    "total_SNR =  np.load(header + 'total_SNR_sim.npy')\n",
    "total_idx = np.load(\"total_idx_sim.npy\")\n",
    "\n",
    "total_features = total_features[total_y == 1]\n",
    "total_transits = total_transits[total_y == 1]\n",
    "total_params = total_params[total_y == 1]\n",
    "total_SNR = total_SNR[total_y == 1]\n",
    "total_idx = total_idx[total_y == 1]\n",
    "total_y = total_y[total_y == 1]\n",
    "\n",
    "# header = './'\n",
    "\n",
    "np.save(header + 'total_x_sim_true.npy', total_features)\n",
    "np.save(header + 'total_y_sim_true.npy', total_y)\n",
    "np.save(header + 'total_transits_sim_true.npy', total_transits)\n",
    "np.save(header + 'total_params_sim_true.npy', total_params)\n",
    "np.save(header + 'total_SNR_sim_true.npy', total_SNR)\n",
    "np.save(header + 'total_idx_sim_true.npy', total_idx)\n",
    "\n",
    "\n",
    "#!7z a all_files_true.zip total_x_sim_true.npy total_y_sim_true.npy total_transit_sim_true.npy total_params_sim_true.npy total_SNR_sim_true.npy total_idx_sim_true.npy\n",
    "print('done')\n",
    "\n",
    "\n",
    "total_features_train_true = total_features[:20000]\n",
    "total_transits_train_true = total_transits[:20000]\n",
    "total_y_train_true = total_y[:20000]\n",
    "total_params_train_true = total_params[:20000]\n",
    "total_SNR_train_true = total_SNR[:20000]\n",
    "\n",
    "total_features_test_true = total_features[20000:30000]\n",
    "total_transits_test_true = total_transits[20000:30000]\n",
    "total_y_test_true = total_y[20000:30000]\n",
    "total_params_test_true = total_params[20000:30000]\n",
    "total_SNR_test_true = total_SNR[20000:30000]\n",
    "print('done')\n",
    "\n",
    "print('start')\n",
    "print(total_features.shape, total_transits.shape, total_y.shape, total_params.shape, total_SNR.shape)\n",
    "\n",
    "np.save(header + 'total_x_sim_train_true.npy', total_features_train_true)\n",
    "np.save(header + 'total_y_sim_train_true.npy', total_y_train_true)\n",
    "np.save(header + 'total_transit_sim_train_true.npy', total_transits_train_true)\n",
    "np.save(header + 'total_params_sim_train_true.npy', total_params_train_true)\n",
    "np.save(header + 'total_SNR_sim_train_true.npy', total_SNR_train_true)\n",
    "\n",
    "\n",
    "np.save(header + 'total_x_sim_test_true.npy', total_features_test_true)\n",
    "np.save(header + 'total_y_sim_test_true.npy', total_y_test_true)\n",
    "np.save(header + 'total_transit_sim_test_true.npy', total_transits_test_true)\n",
    "np.save(header + 'total_params_sim_test_true.npy', total_params_test_true)\n",
    "np.save(header + 'total_SNR_sim_test_true.npy', total_SNR_test_true)\n",
    "\n",
    "\n",
    "total_features = None\n",
    "total_transits = None\n",
    "total_y = None\n",
    "total_params = None\n",
    "total_SNR = None\n",
    "\n",
    "total_features_train_true = None\n",
    "total_transits_train_true = None\n",
    "total_y_train_true = None\n",
    "total_params_train_true = None\n",
    "total_SNR_train_true = None\n",
    "\n",
    "total_features_test_true = None\n",
    "total_transits_test_true = None\n",
    "total_y_test_true = None\n",
    "total_params_test_true = None\n",
    "total_SNR_test_true = None\n",
    "\n",
    "#!7z a all_files_small_true.zip total_x_sim_train_true.npy total_y_sim_train_true.npy total_transit_sim_train_true.npy total_params_sim_train_true.npy total_SNR_sim_train_true.npy total_x_sim_test_true.npy total_y_sim_test_true.npy total_transit_sim_test_true.npy total_params_sim_test_true.npy total_SNR_sim_test_true.npy\n",
    "print('done')\n"
   ]
  },
  {
   "cell_type": "code",
   "execution_count": null,
   "metadata": {},
   "outputs": [],
   "source": [
    "#!rm -rf *_true.npy"
   ]
  }
 ],
 "metadata": {
  "accelerator": "GPU",
  "colab": {
   "collapsed_sections": [],
   "default_view": {},
   "name": "Astropy.ipynb",
   "provenance": [],
   "version": "0.3.2",
   "views": {}
  },
  "kernelspec": {
   "display_name": "Python 3.8.13 ('strudel_pytorch')",
   "language": "python",
   "name": "python3"
  },
  "language_info": {
   "codemirror_mode": {
    "name": "ipython",
    "version": 3
   },
   "file_extension": ".py",
   "mimetype": "text/x-python",
   "name": "python",
   "nbconvert_exporter": "python",
   "pygments_lexer": "ipython3",
   "version": "3.8.13"
  },
  "vscode": {
   "interpreter": {
    "hash": "e7cb9720036b4cf547af60f959df9876f4b9634551a4e0d26d07a5026edf1cc8"
   }
  }
 },
 "nbformat": 4,
 "nbformat_minor": 2
}
