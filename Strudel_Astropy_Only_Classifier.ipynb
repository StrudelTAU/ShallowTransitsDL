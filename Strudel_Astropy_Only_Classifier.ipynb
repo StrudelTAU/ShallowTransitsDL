{
 "cells": [
  {
   "cell_type": "code",
   "execution_count": 1,
   "metadata": {},
   "outputs": [
    {
     "name": "stderr",
     "output_type": "stream",
     "text": [
      "Using TensorFlow backend.\n",
      "/home/elad/anaconda2/envs/TF-1.1/lib/python2.7/site-packages/requests/__init__.py:91: RequestsDependencyWarning: urllib3 (1.25.3) or chardet (3.0.4) doesn't match a supported version!\n",
      "  RequestsDependencyWarning)\n",
      "/home/elad/anaconda2/envs/TF-1.1/lib/python2.7/site-packages/requests/__init__.py:91: RequestsDependencyWarning: urllib3 (1.25.3) or chardet (3.0.4) doesn't match a supported version!\n",
      "  RequestsDependencyWarning)\n"
     ]
    }
   ],
   "source": [
    "import sys\n",
    "sys.path.insert(0,'..')\n",
    "\n",
    "import numpy as np\n",
    "import pandas as pd\n",
    "\n",
    "import keras \n",
    "import keras.backend as K\n",
    "from keras.optimizers import Adam\n",
    "\n",
    "from gan_utils import *\n",
    "from strudel_utils import *\n",
    "from networks import *\n",
    "\n",
    "import tensorflow as tf\n",
    "from keras.backend.tensorflow_backend import set_session\n",
    "config = tf.ConfigProto()\n",
    "config.gpu_options.per_process_gpu_memory_fraction = 0.95\n",
    "config.gpu_options.visible_device_list = \"0\"\n",
    "config.gpu_options.allow_growth = True\n",
    "set_session(tf.Session(config=config))\n",
    "\n",
    "\n",
    "gen_shape = (1, 20736, 1)\n",
    "gen_inputs, gen_encoded, gen_outputs, gen_outputs_lambda = generator(gen_shape)\n",
    "\n",
    "dis_inputs, dis_outputs = discriminator(K.int_shape(gen_outputs)[1:])\n",
    "\n",
    "class_intermediate_input_shapes = [(K.int_shape(gen_inputs)[1], K.int_shape(gen_inputs)[2]//(2**i), [32,32,32,32,64,64,64,64][i]) for i in range(8)]\n",
    "class_in, class_out = classifier(K.int_shape(gen_inputs)[1:], class_intermediate_input_shapes, add_in=False)\n"
   ]
  },
  {
   "cell_type": "code",
   "execution_count": null,
   "metadata": {},
   "outputs": [],
   "source": [
    "x, y, has_transits = load_data()\n",
    "\n",
    "classifier = Model(class_in, class_out, 'classifier')\n",
    "classifier.compile(loss='binary_crossentropy', optimizer=Adam(), metrics=['accuracy'])\n",
    "# classifier.summary()\n",
    "print('loaded Classifier')\n",
    "\n",
    "log_callback = log_results_classifier(1, 'scores_classifier_only.txt')\n",
    "\n",
    "classifier.fit(x, has_transits, epochs=16, batch_size=32, callbacks=[log_callback])\n",
    "del x\n",
    "del y\n",
    "del has_transits"
   ]
  },
  {
   "cell_type": "code",
   "execution_count": 2,
   "metadata": {},
   "outputs": [
    {
     "name": "stdout",
     "output_type": "stream",
     "text": [
      "179980/179980 [==============================] - 369s   \n",
      "0.9554745951419907\n"
     ]
    }
   ],
   "source": [
    "x = np.expand_dims(np.load('../total_x_sim.npy', mmap_mode='r'),axis=1)\n",
    "x = np.pad(x, ((0, 0), (0, 0), (0, 30 + 96), (0, 0)), 'constant', constant_values=(0, 0))\n",
    "classifier = keras.models.load_model('best_classifier_only_test.h5')\n",
    "\n",
    "y_test = np.load('../total_params_sim.npy')[:,1] > 0\n",
    "y_test = y_test[20000:]\n",
    "y_pred = classifier.predict(x[20000:], verbose=1)[:,0]\n",
    "fpr, tpr, thresholds_keras = roc_curve(y_test, y_pred)\n",
    "roc_auc = roc_auc_score(y_test, y_pred)\n",
    "\n",
    "thresh = thresholds_keras[find_nearest(fpr, 0.01)]\n",
    "rate = tpr[find_nearest(fpr, 0.01)]\n",
    "print(roc_auc)"
   ]
  },
  {
   "cell_type": "code",
   "execution_count": 3,
   "metadata": {},
   "outputs": [],
   "source": [
    "fpr, tpr, thresholds_keras = roc_curve(y_test, y_pred)\n",
    "d = {'tpr': tpr, 'fpr': fpr, 'thresholds': thresholds_keras}\n",
    "roc = pd.DataFrame(data=d)\n",
    "roc.to_csv('ROC_AUC_FULL_only_classfier.csv')"
   ]
  },
  {
   "cell_type": "code",
   "execution_count": null,
   "metadata": {},
   "outputs": [],
   "source": []
  }
 ],
 "metadata": {
  "kernelspec": {
   "display_name": "Python (TF 1.1.0, Keras 2.0.8)",
   "language": "python",
   "name": "tf-1.1"
  },
  "language_info": {
   "codemirror_mode": {
    "name": "ipython",
    "version": 2
   },
   "file_extension": ".py",
   "mimetype": "text/x-python",
   "name": "python",
   "nbconvert_exporter": "python",
   "pygments_lexer": "ipython2",
   "version": "2.7.15"
  }
 },
 "nbformat": 4,
 "nbformat_minor": 2
}
